{
 "cells": [
  {
   "cell_type": "markdown",
   "metadata": {},
   "source": [
    "### Today we are going to perform the simple classification of the amazon reviews' sentiment.\n",
    "\n",
    "### Please, download the dataset amazon_baby.csv."
   ]
  },
  {
   "cell_type": "code",
   "metadata": {
    "collapsed": false,
    "ExecuteTime": {
     "end_time": "2024-11-13T15:22:32.405901Z",
     "start_time": "2024-11-13T15:22:31.818395Z"
    }
   },
   "source": [
    "import pandas as pd\n",
    "import numpy as np\n",
    "import matplotlib.pyplot as plt\n",
    "import string\n",
    "import sys\n",
    "from sklearn.linear_model import LogisticRegression\n",
    "from sklearn.model_selection import train_test_split\n",
    "from sklearn.feature_extraction.text import CountVectorizer\n",
    "import time\n",
    "def remove_punctuation(text):\n",
    "    import string\n",
    "    translator = str.maketrans('', '', string.punctuation)\n",
    "    return text.translate(translator)\n",
    "\n",
    "baby_df = pd.read_csv('amazon_baby.csv')\n",
    "baby_df.head()"
   ],
   "outputs": [
    {
     "data": {
      "text/plain": [
       "                                                                                                name  \\\n",
       "0                                                                           Planetwise Flannel Wipes   \n",
       "1                                                                              Planetwise Wipe Pouch   \n",
       "2                                                                Annas Dream Full Quilt with 2 Shams   \n",
       "3  Stop Pacifier Sucking without tears with Thumbuddy To Love's Binky Fairy Puppet and Adorable Book   \n",
       "4  Stop Pacifier Sucking without tears with Thumbuddy To Love's Binky Fairy Puppet and Adorable Book   \n",
       "\n",
       "                                                                                                                                                                                                                                                                                                                                                                                                                                                                 review  \\\n",
       "0  These flannel wipes are OK, but in my opinion not worth keeping.  I also ordered someImse Vimse Cloth Wipes-Ocean Blue-12 countwhich are larger, had a nicer, softer texture and just seemed higher quality.  I use cloth wipes for hands and faces and have been usingThirsties 6 Pack Fab Wipes, Boyfor about 8 months now and need to replace them because they are starting to get rough and have had stink issues for a while that stripping no longer handles.   \n",
       "1                                                                                                                                                                                                                                                                                                        it came early and was not disappointed. i love planet wise bags and now my wipe holder. it keps my osocozy wipes moist and does not leak. highly recommend it.   \n",
       "2                                                                                                                                                                                                                                                                                                                       Very soft and comfortable and warmer than it looks...fit the full size bed perfectly...would recommend to anyone looking for this type of quilt   \n",
       "3                                                                This is a product well worth the purchase.  I have not found anything else like this, and it is a positive, ingenious approach to losing the binky.  What I love most about this product is how much ownership my daughter has in getting rid of the binky.  She is so proud of herself, and loves her little fairy.  I love the artwork, the chart in the back, and the clever approach of this tool.   \n",
       "4                                                  All of my kids have cried non-stop when I tried to ween them off their pacifier, until I found Thumbuddy To Love's Binky Fairy Puppet.  It is an easy way to work with your kids to allow them to understand where their pacifier is going and help them part from it.This is a must buy book, and a great gift for expecting parents!!  You will save them soo many headaches.Thanks for this book!  You all rock!!   \n",
       "\n",
       "   rating  \n",
       "0       3  \n",
       "1       5  \n",
       "2       5  \n",
       "3       5  \n",
       "4       5  "
      ],
      "text/html": [
       "<div>\n",
       "<style scoped>\n",
       "    .dataframe tbody tr th:only-of-type {\n",
       "        vertical-align: middle;\n",
       "    }\n",
       "\n",
       "    .dataframe tbody tr th {\n",
       "        vertical-align: top;\n",
       "    }\n",
       "\n",
       "    .dataframe thead th {\n",
       "        text-align: right;\n",
       "    }\n",
       "</style>\n",
       "<table border=\"1\" class=\"dataframe\">\n",
       "  <thead>\n",
       "    <tr style=\"text-align: right;\">\n",
       "      <th></th>\n",
       "      <th>name</th>\n",
       "      <th>review</th>\n",
       "      <th>rating</th>\n",
       "    </tr>\n",
       "  </thead>\n",
       "  <tbody>\n",
       "    <tr>\n",
       "      <th>0</th>\n",
       "      <td>Planetwise Flannel Wipes</td>\n",
       "      <td>These flannel wipes are OK, but in my opinion not worth keeping.  I also ordered someImse Vimse Cloth Wipes-Ocean Blue-12 countwhich are larger, had a nicer, softer texture and just seemed higher quality.  I use cloth wipes for hands and faces and have been usingThirsties 6 Pack Fab Wipes, Boyfor about 8 months now and need to replace them because they are starting to get rough and have had stink issues for a while that stripping no longer handles.</td>\n",
       "      <td>3</td>\n",
       "    </tr>\n",
       "    <tr>\n",
       "      <th>1</th>\n",
       "      <td>Planetwise Wipe Pouch</td>\n",
       "      <td>it came early and was not disappointed. i love planet wise bags and now my wipe holder. it keps my osocozy wipes moist and does not leak. highly recommend it.</td>\n",
       "      <td>5</td>\n",
       "    </tr>\n",
       "    <tr>\n",
       "      <th>2</th>\n",
       "      <td>Annas Dream Full Quilt with 2 Shams</td>\n",
       "      <td>Very soft and comfortable and warmer than it looks...fit the full size bed perfectly...would recommend to anyone looking for this type of quilt</td>\n",
       "      <td>5</td>\n",
       "    </tr>\n",
       "    <tr>\n",
       "      <th>3</th>\n",
       "      <td>Stop Pacifier Sucking without tears with Thumbuddy To Love's Binky Fairy Puppet and Adorable Book</td>\n",
       "      <td>This is a product well worth the purchase.  I have not found anything else like this, and it is a positive, ingenious approach to losing the binky.  What I love most about this product is how much ownership my daughter has in getting rid of the binky.  She is so proud of herself, and loves her little fairy.  I love the artwork, the chart in the back, and the clever approach of this tool.</td>\n",
       "      <td>5</td>\n",
       "    </tr>\n",
       "    <tr>\n",
       "      <th>4</th>\n",
       "      <td>Stop Pacifier Sucking without tears with Thumbuddy To Love's Binky Fairy Puppet and Adorable Book</td>\n",
       "      <td>All of my kids have cried non-stop when I tried to ween them off their pacifier, until I found Thumbuddy To Love's Binky Fairy Puppet.  It is an easy way to work with your kids to allow them to understand where their pacifier is going and help them part from it.This is a must buy book, and a great gift for expecting parents!!  You will save them soo many headaches.Thanks for this book!  You all rock!!</td>\n",
       "      <td>5</td>\n",
       "    </tr>\n",
       "  </tbody>\n",
       "</table>\n",
       "</div>"
      ]
     },
     "execution_count": 108,
     "metadata": {},
     "output_type": "execute_result"
    }
   ],
   "execution_count": 108
  },
  {
   "cell_type": "markdown",
   "metadata": {},
   "source": [
    "## Exercise 1 (data preparation)\n",
    "a) Remove punctuation from reviews using the given function.   \n",
    "b) Replace all missing (nan) revies with empty \"\" string.  \n",
    "c) Drop all the entries with rating = 3, as they have neutral sentiment.   \n",
    "d) Set all positive ($\\geq$4) ratings to 1 and negative($\\leq$2) to -1."
   ]
  },
  {
   "cell_type": "code",
   "metadata": {
    "collapsed": false,
    "ExecuteTime": {
     "end_time": "2024-11-13T15:22:32.468355Z",
     "start_time": "2024-11-13T15:22:32.438356Z"
    }
   },
   "source": [
    "#b)\n",
    "baby_df['review'] = baby_df['review'].fillna(\"\")\n",
    "\n",
    "#short test:\n",
    "baby_df[\"review\"][38] == baby_df[\"review\"][38]"
   ],
   "outputs": [
    {
     "data": {
      "text/plain": [
       "True"
      ]
     },
     "execution_count": 109,
     "metadata": {},
     "output_type": "execute_result"
    }
   ],
   "execution_count": 109
  },
  {
   "cell_type": "code",
   "metadata": {
    "collapsed": false,
    "ExecuteTime": {
     "end_time": "2024-11-13T15:22:33.074866Z",
     "start_time": "2024-11-13T15:22:32.512354Z"
    }
   },
   "source": [
    "#a)\n",
    "baby_df['review'] = baby_df['review'].apply(remove_punctuation)\n",
    "\n",
    "#short test: \n",
    "baby_df[\"review\"][4] == 'All of my kids have cried nonstop when I tried to ween them off their pacifier until I found Thumbuddy To Loves Binky Fairy Puppet  It is an easy way to work with your kids to allow them to understand where their pacifier is going and help them part from itThis is a must buy book and a great gift for expecting parents  You will save them soo many headachesThanks for this book  You all rock'\n",
    "remove_punctuation(baby_df[\"review\"][4]) == 'All of my kids have cried nonstop when I tried to ween them off their pacifier until I found Thumbuddy To Loves Binky Fairy Puppet  It is an easy way to work with your kids to allow them to understand where their pacifier is going and help them part from itThis is a must buy book and a great gift for expecting parents  You will save them soo many headachesThanks for this book  You all rock'"
   ],
   "outputs": [
    {
     "data": {
      "text/plain": [
       "True"
      ]
     },
     "execution_count": 110,
     "metadata": {},
     "output_type": "execute_result"
    }
   ],
   "execution_count": 110
  },
  {
   "cell_type": "code",
   "metadata": {
    "collapsed": false,
    "ExecuteTime": {
     "end_time": "2024-11-13T15:22:33.138202Z",
     "start_time": "2024-11-13T15:22:33.092900Z"
    }
   },
   "source": [
    "#c)\n",
    "baby_df = baby_df[baby_df['rating'] != 3]\n",
    "#short test:\n",
    "sum(baby_df[\"rating\"] == 3)"
   ],
   "outputs": [
    {
     "data": {
      "text/plain": [
       "0"
      ]
     },
     "execution_count": 111,
     "metadata": {},
     "output_type": "execute_result"
    }
   ],
   "execution_count": 111
  },
  {
   "cell_type": "code",
   "metadata": {
    "collapsed": false,
    "ExecuteTime": {
     "end_time": "2024-11-13T15:22:33.215753Z",
     "start_time": "2024-11-13T15:22:33.170833Z"
    }
   },
   "source": [
    "#d) \n",
    "baby_df[\"rating\"]=baby_df[\"rating\"].apply(lambda x:1 if x>=4 else -1)\n",
    "#short test:\n",
    "sum(baby_df[\"rating\"]**2 != 1)"
   ],
   "outputs": [
    {
     "data": {
      "text/plain": [
       "0"
      ]
     },
     "execution_count": 112,
     "metadata": {},
     "output_type": "execute_result"
    }
   ],
   "execution_count": 112
  },
  {
   "metadata": {
    "ExecuteTime": {
     "end_time": "2024-11-13T15:22:33.247277Z",
     "start_time": "2024-11-13T15:22:33.232768Z"
    }
   },
   "cell_type": "code",
   "source": "baby_df.head(30)",
   "outputs": [
    {
     "data": {
      "text/plain": [
       "                                                                                                 name  \\\n",
       "1                                                                               Planetwise Wipe Pouch   \n",
       "2                                                                 Annas Dream Full Quilt with 2 Shams   \n",
       "3   Stop Pacifier Sucking without tears with Thumbuddy To Love's Binky Fairy Puppet and Adorable Book   \n",
       "4   Stop Pacifier Sucking without tears with Thumbuddy To Love's Binky Fairy Puppet and Adorable Book   \n",
       "5   Stop Pacifier Sucking without tears with Thumbuddy To Love's Binky Fairy Puppet and Adorable Book   \n",
       "6                                                             A Tale of Baby's Days with Peter Rabbit   \n",
       "7                                           Baby Tracker&reg; - Daily Childcare Journal, Schedule Log   \n",
       "8                                           Baby Tracker&reg; - Daily Childcare Journal, Schedule Log   \n",
       "9                                           Baby Tracker&reg; - Daily Childcare Journal, Schedule Log   \n",
       "10                                          Baby Tracker&reg; - Daily Childcare Journal, Schedule Log   \n",
       "11                                          Baby Tracker&reg; - Daily Childcare Journal, Schedule Log   \n",
       "12                                          Baby Tracker&reg; - Daily Childcare Journal, Schedule Log   \n",
       "14                                                     Nature's Lullabies First Year Sticker Calendar   \n",
       "15                                                     Nature's Lullabies First Year Sticker Calendar   \n",
       "16                                                     Nature's Lullabies First Year Sticker Calendar   \n",
       "17                                                    Nature's Lullabies Second Year Sticker Calendar   \n",
       "18                                                    Nature's Lullabies Second Year Sticker Calendar   \n",
       "19                                                    Nature's Lullabies Second Year Sticker Calendar   \n",
       "20                                                    Nature's Lullabies Second Year Sticker Calendar   \n",
       "21                                                    Nature's Lullabies Second Year Sticker Calendar   \n",
       "22                                                    Nature's Lullabies Second Year Sticker Calendar   \n",
       "24                                                    Nature's Lullabies Second Year Sticker Calendar   \n",
       "25                                                    Nature's Lullabies Second Year Sticker Calendar   \n",
       "26                                                                       Baby's First Journal - Green   \n",
       "28                                                                        Lamaze Peekaboo, I Love You   \n",
       "29                                                                        Lamaze Peekaboo, I Love You   \n",
       "30                                                                        Lamaze Peekaboo, I Love You   \n",
       "31                                                                        Lamaze Peekaboo, I Love You   \n",
       "32                                                                        Lamaze Peekaboo, I Love You   \n",
       "33                                                                        Lamaze Peekaboo, I Love You   \n",
       "\n",
       "                                                                                                                                                                                                                                                                                                                                                                                                                                                                                                                                                                                                                                                                                                                                                                                                                                                                                                                                                                                                                                                                                                                                                                                                                                                                                              review  \\\n",
       "1                                                                                                                                                                                                                                                                                                                                                                                                                                                                                                                                                                                                                                                                                                                                                                                                                                                                                                                                                                                                                                                                                                                                         it came early and was not disappointed i love planet wise bags and now my wipe holder it keps my osocozy wipes moist and does not leak highly recommend it   \n",
       "2                                                                                                                                                                                                                                                                                                                                                                                                                                                                                                                                                                                                                                                                                                                                                                                                                                                                                                                                                                                                                                                                                                                                                          Very soft and comfortable and warmer than it looksfit the full size bed perfectlywould recommend to anyone looking for this type of quilt   \n",
       "3                                                                                                                                                                                                                                                                                                                                                                                                                                                                                                                                                                                                                                                                                                                                                                                                                                                                                                       This is a product well worth the purchase  I have not found anything else like this and it is a positive ingenious approach to losing the binky  What I love most about this product is how much ownership my daughter has in getting rid of the binky  She is so proud of herself and loves her little fairy  I love the artwork the chart in the back and the clever approach of this tool   \n",
       "4                                                                                                                                                                                                                                                                                                                                                                                                                                                                                                                                                                                                                                                                                                                                                                                                                                                                                           All of my kids have cried nonstop when I tried to ween them off their pacifier until I found Thumbuddy To Loves Binky Fairy Puppet  It is an easy way to work with your kids to allow them to understand where their pacifier is going and help them part from itThis is a must buy book and a great gift for expecting parents  You will save them soo many headachesThanks for this book  You all rock   \n",
       "5                                                                                                                                                                                                                                                                                                                                                                                                                                                                                                                                                                                                                                                                                                                                                                                           When the Binky Fairy came to our house we didnt have any special gift and book to help explain to her about how important it is to stop using a pacifier This book does a great job to help prepare your child for the loss of their favorite item The doll is adorable and we made lots of cute movies with the Binky Fairy telling our daughter about what happens when the Binky Fairy comes I would highly recommend this product for any parent trying to break the pacifier or thumb sucking habit   \n",
       "6                                                                                                                                                                                                                                                                                                                                                                                                                                                                                                                                                                                                                                                                                                                                                                                                                                                                                                                                                                                                                                                                                   Lovely book its bound tightly so you may not be able to add alot of photoscards aside from the designated spaces in the book Shop around before you purchase as it is currently listed at Barnes  Noble for 2995   \n",
       "7                                                                                                                                                                                                                                                                                                                                                                                                                                                                                                                                                                                                                                                                                                                                                                                                                                                                                                                                                                                                                                           Perfect for new parents We were able to keep track of babys feeding sleep and diaper change schedule for the first two and a half months of her life Made life easier when the doctor would ask questions about habits because we had it all right there   \n",
       "8                                                                                                                                                                                                                                                                                                                                                                                                                                                                                                                                                                                                                                                                                                                                                                                                                                                                                                                                                                                                                                                                                                    A friend of mine pinned this product on Pinterest so I decided to give it a whirl It is fantastic If you are a new parent this will help you keep track of feedings diaper changes and the like   \n",
       "9                                                                                                                                                                                                                                                                                                                                                                                                                                                                                                                                                                                                                                                                                                                                                                                                                                                                              This has been an easy way for my nanny to record all the key events that happen with my baby when Im not at home  Would highly recommend it to someone who wants to stay informed of what your baby is up to while youre not homeThe only reason this isnt a 5 is because I think there could have been some more standarad preprinted optionsI plan on ordering another one when we run out of pages in this journal   \n",
       "10                                                                                                                                                                                                                                                                                            I love this journal and our nanny uses it everyday to track on our daughters sleep eating and other activities The layout and design make it very easy to fill in quickly with a comments column to add in details ie we ask the nanny to specify what food she had for lunch amount of milk she took specifics of play timetummy time walk to park etc I love knowing the details of my babys day and I also use it to track weekly on overall schedule patterns and changes ie babys nap time has moved naturally as she gets olderMy only complaint is that there is no real space to communicate back to the nanny as I sometimes want to reply to the nannys comments andor leave her notes about the previous night ie Baby didnt sleep well or baby has rash etc or other instructions Please use sun screen on the baby  its hot out today that I often forget to tell her in the rush of the morning I just stick in postits now for my notes All in all I highly recommend this baby tracker   \n",
       "11                                                                                                                                                                                                                                                                                                                                                                                                                                                                                                                                                                                                                                                                                                                                                                                                                                                                                                                                                                                                                                                 This book is perfect  Im a first time new mom and this book made it so easy to keep track of feedings diaper changes sleep  Definitely would recommend this for new moms  Plus its small enough that I throw in the diaper back for doctor visits   \n",
       "12  I originally just gave the nanny a pad of paper to write down this information for my little one She would take him to the park and leave the pad behind  I was getting incompleteinaccurate information when she wohld get home at the end of the day and try to remember napsfeedingsdiaper changes I wanted something she could take with her and also a way to better control how she reported information This was the perfect solution Now Im getting all the information I wanted There is a very helpful example of how to fill it out It also has a pouch for additional documents and a section up front for emergency contact info Each page goes from 7  6 This works for me because the nanny starts at 7am and ends before 6pm I use an app on my phone for tracking when Im with the baby I transfer the info from this notebook to my phone My only complaint the space is pretty small  they provide useful shorthand but its a little difficult to fit some of the info in the space provided Also some of the other reviews complain about the 7  6 time format This isnt a real problem for me but I suppose if you wanted to track an entire day you would have to use two pages  not too big of a deal 7am  6pm is pretty much perfect for daycarenannycaregiver situation   \n",
       "14                                                                                                                                                                                                                                                                                                                                                                                                                                                                                                                                                                                                                                                                                                                                                                                                                                                                                                                                                                                                                                                                                                                                                                                               Space for monthly photos info and a lot of useful stickers come with it It is exactly what I wanted   \n",
       "15                                                                                                                                                                                                                                                                                                                                                                                                                                                                                                                                                                                                                                                                                                                                                                                              I bought this calender for myself for my second son It is very colorful and has room on each page to write height weight and what baby likes to do There is also room on each page for a photo to be placed The calender date boxes have room for a sticker and some fine writing My only complaint is that it does not have as many stickers as I would like but I just put asterisks before whatever special event happened that day I bought one for a friend as she found it very useful as well   \n",
       "16                                                                                                                                                                                                                                                                                                                                                                                                                                                                                                                                                                                                                                                                                                                                                                                                                                                                                                                                                                                                                                                                                                                                                                               I love this little calender you can keep track of all of babys firsts I like the illustrations and the stickers too   \n",
       "17                                                                                                                                                                                                                                                                                                                                                                                                                                                                                                                                                                                                                                                                                                                                                                                                                                                                                                                                                                                                                                                                   This was the only calender I could find for the second year I did one for the first and wanted to continue cause there are so many things to note still after they turn 1 This one was better than the first year one I got him   \n",
       "18                                                                                                                                                                                                                                                                                                                                                                                                                                                                                                                                                                                                                                                                                                                                                                                                                                                            I completed a calendar for my sons first year and really enjoyed tracking all of his milestones and special moments  so much so that I wanted to continue in the second year since hes still doing amazing and fun things every day  I really like the simple layout of the calendar and while it might not have all the questions and milestone stickers you want  at least its something to keep recording all those special moments   \n",
       "19                                                                                                                                                                                                                                                                                                                                                                                                                                                                                                                                                                                                                                                                                                                                                                                                                                                                                                                                                                                                                                                                                                                         We wanted to get something to keep track of our childs milestones and this is a cute option There arent many other choices out there and this does exactly what we wanted   \n",
       "20                                                                                                                                                                                                                                                                                                                                                                                                                                                                                                                                                                                                                                                                                                                                                                                                I had a hard time finding a second year calendar this is the only one I came across and it is great  Large enough to write in the squares and has a spot to put that months picture in as well as some memories The first two years they change so much I like to jot everything down so I can keep track of all the big milestonesand little ones  I find it is easier to do this on a calendar vs a baby book  This way you can fill out the baby book later and have a great reference to do so   \n",
       "21                                                                                                                                                                                                                                                                                                                                                                                                                                                                                                                                                                                                                                                                                                                                                                                I only purchased a secondyear calendar for my son because I had one for my daughter I was really disappointed with the lack of selection available for secondyear calendars in general so I just got this one because it was one of the only ones Its an okay calendar The finish on the pages is glossy which makes it hard to write on with certain pens The stickers arent very cute and the pages are pretty oldfashioned looking Hopefully they will come out with some other calendars for future purchasers   \n",
       "22                                                                                                                                                                                                                                                                                                                                                                                                                                                                                                                                                                                                                                                                                                                                                                I LOVE this calendar for recording events of my sons second year of life  There are plenty of 1st year baby calendars out there and I loved reocording events of his first year and didnt want to just stop now that he is one  Natures lullabies second year calendar is perfect for continuing on with daily record keeping  The stickers are wonderful and helped me think of milestones to record that I might not have thought of on my own  I highly recommend this calendar  Plus its super cute and brat for either gender   \n",
       "24                                                                                                                                                                                                                                                                                                                                                                                                                                                                                                                                                                                                                                                                                                                                                                                                                                                                                                                                                               Wife loves this calender Comes with a lot of stickers and options to mark the firsts Includes spaces for milestone photos as well Sticker borders for photos etc it is just a very easy to use scrap booking option Especially for new moms who dont have enough time to actually sit down and haul out a ton of scrapbook supplies   \n",
       "25                                                                                                                                                                                                                                                                                                                                                                                                                                                                                                                                                                                                                                                                                                                                                                                                                                                                                                  My daughter had her 1st baby over a year ago She did receive and fill up a First Year Calendar When her son was nearing his first birthday she was looking for a Second Year Calendar to record his milestones Thanks to Amazon I was able to get this for her and she LOVES it Tender sweet art work  helpful stickers  unique pages to fill A nice keepsake A wonderful gift for a oneyear old   \n",
       "26                                                                                                                                                                                                                                                                                                                                                                                                                                                                                                                                                                                                                                                                                                                                                                                                                                                                                                                                                                                                                                                                                                                                                  Extremely useful As a new mom tired and inexpedient not remembering how long ago baby ate this definitely helped me through the first two months   \n",
       "28                                                                                                                                                                                                                                                                                                                                                                                                                                                                                                                                                                                                                                                                                                                                                                                                                                                                                                                                                                                                                                                                                                                 One of babys first and favorite books and it is washable I gave 1 less star than perfect because Id like to see some diversity in the people  not just your typical white family    \n",
       "29                                                                                                                                                                                                                                                                                                                                                                                                                                                                                                                                                                                                                                                                                                                                                                                                                                                                                                                                                                                                                                                                                                                                                                   I like how the book has a hook to attach it to your stroller or car seat  it wont get lost  Great way to go over family members   \n",
       "30                                                                                                                                                                                                                                                                                                                                                                                                                                                                                                                                                                                                                                                                                                                                                                                                                                                                                                                                                                                                                                                                                      Beautiful little book  A great little short story saying I Love YouKeeps the attention of the baby and then the baby can actually turn the pages and hold on to it when you are finished interacting with it   \n",
       "31                                                                                                                                                                                                                                                                                                                                                                                                                                                                                                                                                                                                                                                                                                                                                                                                                                                                                                                                                                                                                                                                                                 This book is so worth the money It says 9 months on the box but I cant wait for my baby to be born to try to use it before Its so cute and very interactive There are flaps to open on every page   \n",
       "32                                                                                                                                                                                                                                                                                                                                                                                                                                                                                                                                                                                                                                                                                                                                                                                                                                                                                                                                                          we just got this book for our oneyearold and she loves it  Its so nice that she cant bite chunks out of it like she can a board book or rip it like a paper one  She can chew on it pull on it and carry it all over the house  She loves the little flaps that open and is learning simple words like daddy mommy puppy etc  We love it   \n",
       "33                                                                                                                                                                                                                                                                                                                                                                                                                                                                                                                                                                                                                                                                                                                                                                                                                                                                                                                                                                                                                                                                                             The book is colorful and is perfect for 6months and older The only thing I didnt like was the strong smell of the dyes andor material I dunked the pages in detergent Then let the book dry overnight   \n",
       "\n",
       "    rating  \n",
       "1        1  \n",
       "2        1  \n",
       "3        1  \n",
       "4        1  \n",
       "5        1  \n",
       "6        1  \n",
       "7        1  \n",
       "8        1  \n",
       "9        1  \n",
       "10       1  \n",
       "11       1  \n",
       "12       1  \n",
       "14       1  \n",
       "15       1  \n",
       "16       1  \n",
       "17       1  \n",
       "18       1  \n",
       "19       1  \n",
       "20       1  \n",
       "21      -1  \n",
       "22       1  \n",
       "24       1  \n",
       "25       1  \n",
       "26       1  \n",
       "28       1  \n",
       "29       1  \n",
       "30       1  \n",
       "31       1  \n",
       "32       1  \n",
       "33       1  "
      ],
      "text/html": [
       "<div>\n",
       "<style scoped>\n",
       "    .dataframe tbody tr th:only-of-type {\n",
       "        vertical-align: middle;\n",
       "    }\n",
       "\n",
       "    .dataframe tbody tr th {\n",
       "        vertical-align: top;\n",
       "    }\n",
       "\n",
       "    .dataframe thead th {\n",
       "        text-align: right;\n",
       "    }\n",
       "</style>\n",
       "<table border=\"1\" class=\"dataframe\">\n",
       "  <thead>\n",
       "    <tr style=\"text-align: right;\">\n",
       "      <th></th>\n",
       "      <th>name</th>\n",
       "      <th>review</th>\n",
       "      <th>rating</th>\n",
       "    </tr>\n",
       "  </thead>\n",
       "  <tbody>\n",
       "    <tr>\n",
       "      <th>1</th>\n",
       "      <td>Planetwise Wipe Pouch</td>\n",
       "      <td>it came early and was not disappointed i love planet wise bags and now my wipe holder it keps my osocozy wipes moist and does not leak highly recommend it</td>\n",
       "      <td>1</td>\n",
       "    </tr>\n",
       "    <tr>\n",
       "      <th>2</th>\n",
       "      <td>Annas Dream Full Quilt with 2 Shams</td>\n",
       "      <td>Very soft and comfortable and warmer than it looksfit the full size bed perfectlywould recommend to anyone looking for this type of quilt</td>\n",
       "      <td>1</td>\n",
       "    </tr>\n",
       "    <tr>\n",
       "      <th>3</th>\n",
       "      <td>Stop Pacifier Sucking without tears with Thumbuddy To Love's Binky Fairy Puppet and Adorable Book</td>\n",
       "      <td>This is a product well worth the purchase  I have not found anything else like this and it is a positive ingenious approach to losing the binky  What I love most about this product is how much ownership my daughter has in getting rid of the binky  She is so proud of herself and loves her little fairy  I love the artwork the chart in the back and the clever approach of this tool</td>\n",
       "      <td>1</td>\n",
       "    </tr>\n",
       "    <tr>\n",
       "      <th>4</th>\n",
       "      <td>Stop Pacifier Sucking without tears with Thumbuddy To Love's Binky Fairy Puppet and Adorable Book</td>\n",
       "      <td>All of my kids have cried nonstop when I tried to ween them off their pacifier until I found Thumbuddy To Loves Binky Fairy Puppet  It is an easy way to work with your kids to allow them to understand where their pacifier is going and help them part from itThis is a must buy book and a great gift for expecting parents  You will save them soo many headachesThanks for this book  You all rock</td>\n",
       "      <td>1</td>\n",
       "    </tr>\n",
       "    <tr>\n",
       "      <th>5</th>\n",
       "      <td>Stop Pacifier Sucking without tears with Thumbuddy To Love's Binky Fairy Puppet and Adorable Book</td>\n",
       "      <td>When the Binky Fairy came to our house we didnt have any special gift and book to help explain to her about how important it is to stop using a pacifier This book does a great job to help prepare your child for the loss of their favorite item The doll is adorable and we made lots of cute movies with the Binky Fairy telling our daughter about what happens when the Binky Fairy comes I would highly recommend this product for any parent trying to break the pacifier or thumb sucking habit</td>\n",
       "      <td>1</td>\n",
       "    </tr>\n",
       "    <tr>\n",
       "      <th>6</th>\n",
       "      <td>A Tale of Baby's Days with Peter Rabbit</td>\n",
       "      <td>Lovely book its bound tightly so you may not be able to add alot of photoscards aside from the designated spaces in the book Shop around before you purchase as it is currently listed at Barnes  Noble for 2995</td>\n",
       "      <td>1</td>\n",
       "    </tr>\n",
       "    <tr>\n",
       "      <th>7</th>\n",
       "      <td>Baby Tracker&amp;reg; - Daily Childcare Journal, Schedule Log</td>\n",
       "      <td>Perfect for new parents We were able to keep track of babys feeding sleep and diaper change schedule for the first two and a half months of her life Made life easier when the doctor would ask questions about habits because we had it all right there</td>\n",
       "      <td>1</td>\n",
       "    </tr>\n",
       "    <tr>\n",
       "      <th>8</th>\n",
       "      <td>Baby Tracker&amp;reg; - Daily Childcare Journal, Schedule Log</td>\n",
       "      <td>A friend of mine pinned this product on Pinterest so I decided to give it a whirl It is fantastic If you are a new parent this will help you keep track of feedings diaper changes and the like</td>\n",
       "      <td>1</td>\n",
       "    </tr>\n",
       "    <tr>\n",
       "      <th>9</th>\n",
       "      <td>Baby Tracker&amp;reg; - Daily Childcare Journal, Schedule Log</td>\n",
       "      <td>This has been an easy way for my nanny to record all the key events that happen with my baby when Im not at home  Would highly recommend it to someone who wants to stay informed of what your baby is up to while youre not homeThe only reason this isnt a 5 is because I think there could have been some more standarad preprinted optionsI plan on ordering another one when we run out of pages in this journal</td>\n",
       "      <td>1</td>\n",
       "    </tr>\n",
       "    <tr>\n",
       "      <th>10</th>\n",
       "      <td>Baby Tracker&amp;reg; - Daily Childcare Journal, Schedule Log</td>\n",
       "      <td>I love this journal and our nanny uses it everyday to track on our daughters sleep eating and other activities The layout and design make it very easy to fill in quickly with a comments column to add in details ie we ask the nanny to specify what food she had for lunch amount of milk she took specifics of play timetummy time walk to park etc I love knowing the details of my babys day and I also use it to track weekly on overall schedule patterns and changes ie babys nap time has moved naturally as she gets olderMy only complaint is that there is no real space to communicate back to the nanny as I sometimes want to reply to the nannys comments andor leave her notes about the previous night ie Baby didnt sleep well or baby has rash etc or other instructions Please use sun screen on the baby  its hot out today that I often forget to tell her in the rush of the morning I just stick in postits now for my notes All in all I highly recommend this baby tracker</td>\n",
       "      <td>1</td>\n",
       "    </tr>\n",
       "    <tr>\n",
       "      <th>11</th>\n",
       "      <td>Baby Tracker&amp;reg; - Daily Childcare Journal, Schedule Log</td>\n",
       "      <td>This book is perfect  Im a first time new mom and this book made it so easy to keep track of feedings diaper changes sleep  Definitely would recommend this for new moms  Plus its small enough that I throw in the diaper back for doctor visits</td>\n",
       "      <td>1</td>\n",
       "    </tr>\n",
       "    <tr>\n",
       "      <th>12</th>\n",
       "      <td>Baby Tracker&amp;reg; - Daily Childcare Journal, Schedule Log</td>\n",
       "      <td>I originally just gave the nanny a pad of paper to write down this information for my little one She would take him to the park and leave the pad behind  I was getting incompleteinaccurate information when she wohld get home at the end of the day and try to remember napsfeedingsdiaper changes I wanted something she could take with her and also a way to better control how she reported information This was the perfect solution Now Im getting all the information I wanted There is a very helpful example of how to fill it out It also has a pouch for additional documents and a section up front for emergency contact info Each page goes from 7  6 This works for me because the nanny starts at 7am and ends before 6pm I use an app on my phone for tracking when Im with the baby I transfer the info from this notebook to my phone My only complaint the space is pretty small  they provide useful shorthand but its a little difficult to fit some of the info in the space provided Also some of the other reviews complain about the 7  6 time format This isnt a real problem for me but I suppose if you wanted to track an entire day you would have to use two pages  not too big of a deal 7am  6pm is pretty much perfect for daycarenannycaregiver situation</td>\n",
       "      <td>1</td>\n",
       "    </tr>\n",
       "    <tr>\n",
       "      <th>14</th>\n",
       "      <td>Nature's Lullabies First Year Sticker Calendar</td>\n",
       "      <td>Space for monthly photos info and a lot of useful stickers come with it It is exactly what I wanted</td>\n",
       "      <td>1</td>\n",
       "    </tr>\n",
       "    <tr>\n",
       "      <th>15</th>\n",
       "      <td>Nature's Lullabies First Year Sticker Calendar</td>\n",
       "      <td>I bought this calender for myself for my second son It is very colorful and has room on each page to write height weight and what baby likes to do There is also room on each page for a photo to be placed The calender date boxes have room for a sticker and some fine writing My only complaint is that it does not have as many stickers as I would like but I just put asterisks before whatever special event happened that day I bought one for a friend as she found it very useful as well</td>\n",
       "      <td>1</td>\n",
       "    </tr>\n",
       "    <tr>\n",
       "      <th>16</th>\n",
       "      <td>Nature's Lullabies First Year Sticker Calendar</td>\n",
       "      <td>I love this little calender you can keep track of all of babys firsts I like the illustrations and the stickers too</td>\n",
       "      <td>1</td>\n",
       "    </tr>\n",
       "    <tr>\n",
       "      <th>17</th>\n",
       "      <td>Nature's Lullabies Second Year Sticker Calendar</td>\n",
       "      <td>This was the only calender I could find for the second year I did one for the first and wanted to continue cause there are so many things to note still after they turn 1 This one was better than the first year one I got him</td>\n",
       "      <td>1</td>\n",
       "    </tr>\n",
       "    <tr>\n",
       "      <th>18</th>\n",
       "      <td>Nature's Lullabies Second Year Sticker Calendar</td>\n",
       "      <td>I completed a calendar for my sons first year and really enjoyed tracking all of his milestones and special moments  so much so that I wanted to continue in the second year since hes still doing amazing and fun things every day  I really like the simple layout of the calendar and while it might not have all the questions and milestone stickers you want  at least its something to keep recording all those special moments</td>\n",
       "      <td>1</td>\n",
       "    </tr>\n",
       "    <tr>\n",
       "      <th>19</th>\n",
       "      <td>Nature's Lullabies Second Year Sticker Calendar</td>\n",
       "      <td>We wanted to get something to keep track of our childs milestones and this is a cute option There arent many other choices out there and this does exactly what we wanted</td>\n",
       "      <td>1</td>\n",
       "    </tr>\n",
       "    <tr>\n",
       "      <th>20</th>\n",
       "      <td>Nature's Lullabies Second Year Sticker Calendar</td>\n",
       "      <td>I had a hard time finding a second year calendar this is the only one I came across and it is great  Large enough to write in the squares and has a spot to put that months picture in as well as some memories The first two years they change so much I like to jot everything down so I can keep track of all the big milestonesand little ones  I find it is easier to do this on a calendar vs a baby book  This way you can fill out the baby book later and have a great reference to do so</td>\n",
       "      <td>1</td>\n",
       "    </tr>\n",
       "    <tr>\n",
       "      <th>21</th>\n",
       "      <td>Nature's Lullabies Second Year Sticker Calendar</td>\n",
       "      <td>I only purchased a secondyear calendar for my son because I had one for my daughter I was really disappointed with the lack of selection available for secondyear calendars in general so I just got this one because it was one of the only ones Its an okay calendar The finish on the pages is glossy which makes it hard to write on with certain pens The stickers arent very cute and the pages are pretty oldfashioned looking Hopefully they will come out with some other calendars for future purchasers</td>\n",
       "      <td>-1</td>\n",
       "    </tr>\n",
       "    <tr>\n",
       "      <th>22</th>\n",
       "      <td>Nature's Lullabies Second Year Sticker Calendar</td>\n",
       "      <td>I LOVE this calendar for recording events of my sons second year of life  There are plenty of 1st year baby calendars out there and I loved reocording events of his first year and didnt want to just stop now that he is one  Natures lullabies second year calendar is perfect for continuing on with daily record keeping  The stickers are wonderful and helped me think of milestones to record that I might not have thought of on my own  I highly recommend this calendar  Plus its super cute and brat for either gender</td>\n",
       "      <td>1</td>\n",
       "    </tr>\n",
       "    <tr>\n",
       "      <th>24</th>\n",
       "      <td>Nature's Lullabies Second Year Sticker Calendar</td>\n",
       "      <td>Wife loves this calender Comes with a lot of stickers and options to mark the firsts Includes spaces for milestone photos as well Sticker borders for photos etc it is just a very easy to use scrap booking option Especially for new moms who dont have enough time to actually sit down and haul out a ton of scrapbook supplies</td>\n",
       "      <td>1</td>\n",
       "    </tr>\n",
       "    <tr>\n",
       "      <th>25</th>\n",
       "      <td>Nature's Lullabies Second Year Sticker Calendar</td>\n",
       "      <td>My daughter had her 1st baby over a year ago She did receive and fill up a First Year Calendar When her son was nearing his first birthday she was looking for a Second Year Calendar to record his milestones Thanks to Amazon I was able to get this for her and she LOVES it Tender sweet art work  helpful stickers  unique pages to fill A nice keepsake A wonderful gift for a oneyear old</td>\n",
       "      <td>1</td>\n",
       "    </tr>\n",
       "    <tr>\n",
       "      <th>26</th>\n",
       "      <td>Baby's First Journal - Green</td>\n",
       "      <td>Extremely useful As a new mom tired and inexpedient not remembering how long ago baby ate this definitely helped me through the first two months</td>\n",
       "      <td>1</td>\n",
       "    </tr>\n",
       "    <tr>\n",
       "      <th>28</th>\n",
       "      <td>Lamaze Peekaboo, I Love You</td>\n",
       "      <td>One of babys first and favorite books and it is washable I gave 1 less star than perfect because Id like to see some diversity in the people  not just your typical white family</td>\n",
       "      <td>1</td>\n",
       "    </tr>\n",
       "    <tr>\n",
       "      <th>29</th>\n",
       "      <td>Lamaze Peekaboo, I Love You</td>\n",
       "      <td>I like how the book has a hook to attach it to your stroller or car seat  it wont get lost  Great way to go over family members</td>\n",
       "      <td>1</td>\n",
       "    </tr>\n",
       "    <tr>\n",
       "      <th>30</th>\n",
       "      <td>Lamaze Peekaboo, I Love You</td>\n",
       "      <td>Beautiful little book  A great little short story saying I Love YouKeeps the attention of the baby and then the baby can actually turn the pages and hold on to it when you are finished interacting with it</td>\n",
       "      <td>1</td>\n",
       "    </tr>\n",
       "    <tr>\n",
       "      <th>31</th>\n",
       "      <td>Lamaze Peekaboo, I Love You</td>\n",
       "      <td>This book is so worth the money It says 9 months on the box but I cant wait for my baby to be born to try to use it before Its so cute and very interactive There are flaps to open on every page</td>\n",
       "      <td>1</td>\n",
       "    </tr>\n",
       "    <tr>\n",
       "      <th>32</th>\n",
       "      <td>Lamaze Peekaboo, I Love You</td>\n",
       "      <td>we just got this book for our oneyearold and she loves it  Its so nice that she cant bite chunks out of it like she can a board book or rip it like a paper one  She can chew on it pull on it and carry it all over the house  She loves the little flaps that open and is learning simple words like daddy mommy puppy etc  We love it</td>\n",
       "      <td>1</td>\n",
       "    </tr>\n",
       "    <tr>\n",
       "      <th>33</th>\n",
       "      <td>Lamaze Peekaboo, I Love You</td>\n",
       "      <td>The book is colorful and is perfect for 6months and older The only thing I didnt like was the strong smell of the dyes andor material I dunked the pages in detergent Then let the book dry overnight</td>\n",
       "      <td>1</td>\n",
       "    </tr>\n",
       "  </tbody>\n",
       "</table>\n",
       "</div>"
      ]
     },
     "execution_count": 113,
     "metadata": {},
     "output_type": "execute_result"
    }
   ],
   "execution_count": 113
  },
  {
   "metadata": {},
   "cell_type": "markdown",
   "source": [
    "## Comment: \n",
    "First, I replaced any missing values with empty strings to avoid issues with later transformations. Then, I applied a function to each review to remove punctuation. After that, I filtered out all entries with a rating of 3, as they represent neutral sentiment, which we’re not including in this dataset. Finally, I assigned a value of 1 to all positive ratings (4 or 5) and -1 to all negative ratings (1 or 2)."
   ]
  },
  {
   "cell_type": "markdown",
   "metadata": {},
   "source": [
    "## CountVectorizer\n",
    "In order to analyze strings, we need to assign them numerical values. We will use one of the simplest string representation, which transforms strings into the $n$ dimensional vectors. The number of dimensions will be the size of our dictionary, and then the values of the vector will represent the number of appereances of the given word in the sentence."
   ]
  },
  {
   "cell_type": "code",
   "metadata": {
    "collapsed": false,
    "ExecuteTime": {
     "end_time": "2024-11-13T15:22:33.308794Z",
     "start_time": "2024-11-13T15:22:33.294659Z"
    }
   },
   "source": [
    "from sklearn.feature_extraction.text import CountVectorizer\n",
    "\n",
    "vectorizer = CountVectorizer()\n",
    "reviews_train_example = [\"We like apples\",\n",
    "                   \"We hate oranges\",\n",
    "                   \"I adore bananas\",\n",
    "                   \"We like like apples and oranges\",\n",
    "                   \"They dislike bananas\"]\n",
    "\n",
    "X_train_example = vectorizer.fit_transform(reviews_train_example)\n",
    "\n",
    "print(vectorizer.get_feature_names())\n",
    "print(X_train_example.todense())\n",
    "\n"
   ],
   "outputs": [
    {
     "name": "stdout",
     "output_type": "stream",
     "text": [
      "['adore', 'and', 'apples', 'bananas', 'dislike', 'hate', 'like', 'oranges', 'they', 'we']\n",
      "[[0 0 1 0 0 0 1 0 0 1]\n",
      " [0 0 0 0 0 1 0 1 0 1]\n",
      " [1 0 0 1 0 0 0 0 0 0]\n",
      " [0 1 1 0 0 0 2 1 0 1]\n",
      " [0 0 0 1 1 0 0 0 1 0]]\n"
     ]
    },
    {
     "name": "stderr",
     "output_type": "stream",
     "text": [
      "D:\\Anaconda\\anaconda3\\lib\\site-packages\\sklearn\\utils\\deprecation.py:87: FutureWarning: Function get_feature_names is deprecated; get_feature_names is deprecated in 1.0 and will be removed in 1.2. Please use get_feature_names_out instead.\n",
      "  warnings.warn(msg, category=FutureWarning)\n"
     ]
    }
   ],
   "execution_count": 114
  },
  {
   "cell_type": "code",
   "metadata": {
    "collapsed": false,
    "ExecuteTime": {
     "end_time": "2024-11-13T15:22:33.386382Z",
     "start_time": "2024-11-13T15:22:33.382381Z"
    }
   },
   "source": [
    "reviews_test_example = [\"They like bananas\",\n",
    "                   \"We hate oranges bananas and apples\",\n",
    "                   \"We love bananas\"] #New word!\n",
    "\n",
    "X_test_example = vectorizer.transform(reviews_test_example)\n",
    "\n",
    "print(X_test_example.todense())"
   ],
   "outputs": [
    {
     "name": "stdout",
     "output_type": "stream",
     "text": [
      "[[0 0 0 1 0 0 1 0 1 0]\n",
      " [0 1 1 1 0 1 0 1 0 1]\n",
      " [0 0 0 1 0 0 0 0 0 1]]\n"
     ]
    }
   ],
   "execution_count": 115
  },
  {
   "cell_type": "markdown",
   "metadata": {},
   "source": [
    "We should acknowledge few facts. Firstly, CountVectorizer does not take order into account. Secondly, it ignores one-letter words (this can be changed during initialization). Finally, for test values, CountVectorizer ignores words which are not in it's dictionary."
   ]
  },
  {
   "cell_type": "markdown",
   "metadata": {},
   "source": [
    "## Exercise 2 \n",
    "a) Split dataset into training and test sets.     \n",
    "b) Transform reviews into vectors using CountVectorizer. "
   ]
  },
  {
   "cell_type": "code",
   "metadata": {
    "collapsed": true,
    "ExecuteTime": {
     "end_time": "2024-11-13T15:22:33.448525Z",
     "start_time": "2024-11-13T15:22:33.418918Z"
    }
   },
   "source": [
    "#a)\n",
    "X=baby_df[\"review\"]\n",
    "Y=baby_df[\"rating\"]\n",
    "X_train, X_test, Y_train, Y_test = train_test_split(X, Y, test_size=0.2, random_state=42)\n"
   ],
   "outputs": [],
   "execution_count": 116
  },
  {
   "cell_type": "code",
   "metadata": {
    "collapsed": true,
    "ExecuteTime": {
     "end_time": "2024-11-13T15:22:38.472974Z",
     "start_time": "2024-11-13T15:22:33.465236Z"
    }
   },
   "source": [
    "#b)\n",
    "vectorizer = CountVectorizer()\n",
    "X_train_vector = vectorizer.fit_transform(X_train)\n",
    "X_test_vector = vectorizer.transform(X_test)\n",
    "print(vectorizer.get_feature_names_out())"
   ],
   "outputs": [
    {
     "name": "stdout",
     "output_type": "stream",
     "text": [
      "['00' '000' '0001' ... 'zzzzzz' 'zzzzzzz' 'zzzzzzzzzzz']\n"
     ]
    }
   ],
   "execution_count": 117
  },
  {
   "metadata": {},
   "cell_type": "markdown",
   "source": [
    "## Comment\n",
    "I split the dataset into training and testing sets, using 80% for training and 20% for testing. Then, I used CountVectorizer to transform the review text into numerical feature vectors, which represent the occurrence of words in the reviews. The vectorizer was fitted on the training data, and the test data was transformed using the fitted model. Finally, I retrieved the list of unique words from the training set, which were used as features in the model. What is more, I noticed that some of the features listed are not strictly words, which can lead to issues when building the model.\n"
   ]
  },
  {
   "cell_type": "markdown",
   "metadata": {},
   "source": [
    "## Exercise 3 \n",
    "a) Train LogisticRegression model on training data (reviews processed with CountVectorizer, ratings as they were).   \n",
    "b) Print 10 most positive and 10 most negative words."
   ]
  },
  {
   "cell_type": "code",
   "metadata": {
    "collapsed": true,
    "ExecuteTime": {
     "end_time": "2024-11-13T15:24:11.093567Z",
     "start_time": "2024-11-13T15:22:38.504882Z"
    }
   },
   "source": [
    "#a)\n",
    "model = LogisticRegression(solver='sag',max_iter=1000)\n",
    "model.fit(X_train_vector, Y_train)\n"
   ],
   "outputs": [
    {
     "name": "stderr",
     "output_type": "stream",
     "text": [
      "D:\\Anaconda\\anaconda3\\lib\\site-packages\\sklearn\\linear_model\\_sag.py:352: ConvergenceWarning: The max_iter was reached which means the coef_ did not converge\n",
      "  warnings.warn(\n"
     ]
    },
    {
     "data": {
      "text/plain": [
       "LogisticRegression(max_iter=1000, solver='sag')"
      ]
     },
     "execution_count": 118,
     "metadata": {},
     "output_type": "execute_result"
    }
   ],
   "execution_count": 118
  },
  {
   "cell_type": "code",
   "metadata": {
    "collapsed": true,
    "ExecuteTime": {
     "end_time": "2024-11-13T15:24:11.330390Z",
     "start_time": "2024-11-13T15:24:11.253175Z"
    }
   },
   "source": [
    "#b)\n",
    "# Get feature names (words) from the vectorizer\n",
    "feature_names = np.array(vectorizer.get_feature_names_out())\n",
    "\n",
    "# Get the coefficients of the trained model\n",
    "coefficients = model.coef_.flatten()\n",
    "\n",
    "# Sort the indices of the coefficients\n",
    "sorted_indices = coefficients.argsort()\n",
    "\n",
    "# Get the 10 most negative and 10 most positive words\n",
    "most_negative_words = feature_names[sorted_indices[:10]]\n",
    "most_positive_words = feature_names[sorted_indices[-10:]]\n",
    "\n",
    "print(\"Most Negative Words:\", most_negative_words)\n",
    "print(\"Most Positive Words:\", most_positive_words)\n",
    "#hint: model.coef_, vectorizer.get_feature_names()"
   ],
   "outputs": [
    {
     "name": "stdout",
     "output_type": "stream",
     "text": [
      "Most Negative Words: ['useless' 'disappointed' 'worst' 'disappointing' 'returned' 'poor'\n",
      " 'poorly' 'waste' 'terrible' 'returning']\n",
      "Most Positive Words: ['highly' 'exactly' 'pleased' 'glad' 'perfectly' 'love' 'awesome' 'loves'\n",
      " 'excellent' 'perfect']\n"
     ]
    }
   ],
   "execution_count": 119
  },
  {
   "metadata": {},
   "cell_type": "markdown",
   "source": [
    "## Comment\n",
    "To predict ratings, I started by training a logistic regression model on the training data. \n",
    "\n",
    "Given the complexity of the dataset, I opted for a more efficient solver - SAG (Stochastic Average Gradient) , which is better suited for larger datasets ( We have more than 166000 records) . Additionally, I adjusted the maximum number of iterations to ensure the model had enough time to converge.\n",
    "\n",
    "By analyzing the feature importance in the decision function, I was able to identify the most positive and negative words. Before using the SAG solver, the results for positive words seemed a bit unusual (e.g., \"ply\"). However, with the SAG solver, words related to positive human emotions were more frequently associated with positive reviews, while the word \"return\" emerged as the most common in negative reviews. This demonstrates how sentiment in text is often closely tied to specific keywords."
   ]
  },
  {
   "cell_type": "markdown",
   "metadata": {},
   "source": [
    "## Exercise 4 \n",
    "a) Predict the sentiment of test data reviews.   \n",
    "b) Predict the sentiment of test data reviews in terms of probability.   \n",
    "c) Find five most positive and most negative reviews.   \n",
    "d) Calculate the accuracy of predictions."
   ]
  },
  {
   "cell_type": "code",
   "metadata": {
    "collapsed": true,
    "ExecuteTime": {
     "end_time": "2024-11-13T15:24:11.422849Z",
     "start_time": "2024-11-13T15:24:11.401077Z"
    }
   },
   "source": [
    "#a)\n",
    "Y_pred = model.predict(X_test_vector)\n"
   ],
   "outputs": [],
   "execution_count": 120
  },
  {
   "cell_type": "code",
   "metadata": {
    "collapsed": true,
    "ExecuteTime": {
     "end_time": "2024-11-13T15:24:11.484279Z",
     "start_time": "2024-11-13T15:24:11.470018Z"
    }
   },
   "source": [
    "#b)\n",
    "Y_pred_prob = model.predict_proba(X_test_vector)\n",
    "\n",
    "print(\"Probabilities for test data:\", Y_pred_prob[:10])"
   ],
   "outputs": [
    {
     "name": "stdout",
     "output_type": "stream",
     "text": [
      "Probabilities for test data: [[0.42565238 0.57434762]\n",
      " [0.72584614 0.27415386]\n",
      " [0.61486256 0.38513744]\n",
      " [0.00363607 0.99636393]\n",
      " [0.00798456 0.99201544]\n",
      " [0.00267802 0.99732198]\n",
      " [0.01876934 0.98123066]\n",
      " [0.15202413 0.84797587]\n",
      " [0.03499297 0.96500703]\n",
      " [0.84356014 0.15643986]]\n"
     ]
    }
   ],
   "execution_count": 121
  },
  {
   "metadata": {},
   "cell_type": "markdown",
   "source": [
    "## Comment\n",
    "In part (a), I trained a logistic regression model and used it to predict the sentiment of the test data reviews. The model's predictions were made by assigning each review a sentiment label (positive or negative). In part (b), I predicted the sentiment of the test data reviews in terms of probability, using the predict_proba() method. This method provides the probabilities of a review belonging to each class (positive or negative), which allows us to understand the model's confidence in its predictions. The output contains two probabilities for each review: one for the negative class and one for the positive class."
   ]
  },
  {
   "cell_type": "code",
   "metadata": {
    "collapsed": true,
    "ExecuteTime": {
     "end_time": "2024-11-13T15:24:11.515147Z",
     "start_time": "2024-11-13T15:24:11.493617Z"
    }
   },
   "source": [
    "# Get the index of the highest and lowest probabilities for positive sentiment\n",
    "positive_indices = np.argsort(Y_pred_prob[:, 1])[-5:]  # Top 5 most positive\n",
    "negative_indices = np.argsort(Y_pred_prob[:, 1])[:5]  # Top 5 most negative\n",
    "\n",
    "# Get the corresponding reviews and their IDs\n",
    "positive_reviews = X_test.iloc[positive_indices]\n",
    "negative_reviews = X_test.iloc[negative_indices]\n",
    "\n",
    "# Display the reviews with their IDs\n",
    "print(\"Most Positive Reviews:\")\n",
    "for idx in positive_indices:\n",
    "    print(f\"ID: {X_test.index[idx]}, Review: {X_test.iloc[idx][:100]}...\")  # Display first 100 characters\n",
    "\n",
    "print(\"\\nMost Negative Reviews:\")\n",
    "for idx in negative_indices:\n",
    "    print(f\"ID: {X_test.index[idx]}, Review: {X_test.iloc[idx][:100]}...\")  # Display first 100 characters\n"
   ],
   "outputs": [
    {
     "name": "stdout",
     "output_type": "stream",
     "text": [
      "Most Positive Reviews:\n",
      "ID: 100166, Review: I bought this carrier when my daughter was about 4 weeks old shes now 10 weeks old  I had a Moby tha...\n",
      "ID: 123632, Review: I did a TON of research before I purchased this stroller and I still watch stroller reviews all the ...\n",
      "ID: 168086, Review: Buttons vs Best Bottoms reviewFirst thing I want to mention  Best Bottoms inserts are compatible wit...\n",
      "ID: 129722, Review: This is a review of the 2012 Bumbleride Flite in Ruby color Our baby is 4 weeks now and we got the s...\n",
      "ID: 50735, Review: The joovy zoom 360 was the perfect solution for us We couldnt justify spending the money on a mounta...\n",
      "\n",
      "Most Negative Reviews:\n",
      "ID: 147902, Review: My disappointment with this product prompted me to write to the manufacturer  Below is my correspond...\n",
      "ID: 175191, Review: I had to return this stroller for three reasons1 Straps are too small and my 15 month old who is ave...\n",
      "ID: 89902, Review: I am so incredibly disappointed with the stroller I just dont even know where to begin  First of all...\n",
      "ID: 27310, Review: PLEASE HEED THE OTHER REVIEWERS WARNINGS ON THIS  I am not one to write a review but the Evenflo hig...\n",
      "ID: 57234, Review: My husband and I are VERY disappointed and shocked by how awful this bassinet is We ordered it becau...\n"
     ]
    }
   ],
   "execution_count": 122
  },
  {
   "metadata": {},
   "cell_type": "markdown",
   "source": [
    "## Comment\n",
    "Here, we have 10 product reviews, consisting of 5 most positive and 5 most negative reviews. After reading these reviews, it is evident that the model classified them accurately, as my own judgment aligns with the model's predictions. This suggests that the model is well-trained and capable of identifying sentiment effectively. It is a positive indicator of the model's performance, reflecting its ability to generalize to real-world data."
   ]
  },
  {
   "cell_type": "code",
   "metadata": {
    "collapsed": true,
    "ExecuteTime": {
     "end_time": "2024-11-13T15:24:11.560694Z",
     "start_time": "2024-11-13T15:24:11.546647Z"
    }
   },
   "source": [
    "#d) \n",
    "from sklearn.metrics import accuracy_score\n",
    "accuracy = accuracy_score(Y_test, Y_pred)\n",
    "print(f\"Model accuracy: {round(accuracy * 100, 2)}%\")"
   ],
   "outputs": [
    {
     "name": "stdout",
     "output_type": "stream",
     "text": [
      "Model accuracy: 93.57%\n"
     ]
    }
   ],
   "execution_count": 123
  },
  {
   "metadata": {},
   "cell_type": "markdown",
   "source": [
    "## Comment\n",
    "he model achieved an accuracy of 93.57%, which indicates that it correctly predicted the sentiment of the reviews in over 93% of the cases. This high accuracy suggests that the model performs well in classifying the sentiment of product reviews, demonstrating its effectiveness in this task.\n"
   ]
  },
  {
   "cell_type": "markdown",
   "metadata": {},
   "source": [
    "## Exercise 5\n",
    "In this exercise we will limit the dictionary of CountVectorizer to the set of significant words, defined below.\n",
    "\n",
    "\n",
    "a) Redo exercises 2-5 using limited dictionary.   \n",
    "b) Check the impact of all the words from the dictionary.   \n",
    "c) Compare accuracy of predictions and the time of evaluation."
   ]
  },
  {
   "cell_type": "code",
   "metadata": {
    "collapsed": true,
    "ExecuteTime": {
     "end_time": "2024-11-13T15:24:11.606181Z",
     "start_time": "2024-11-13T15:24:11.591919Z"
    }
   },
   "source": "significant_words = ['love','great','easy','old','little','perfect','loves','well','able','car','broke','less','even','waste','disappointed','work','product','money','would','return']\n",
   "outputs": [],
   "execution_count": 124
  },
  {
   "cell_type": "code",
   "metadata": {
    "collapsed": true,
    "ExecuteTime": {
     "end_time": "2024-11-13T15:26:42.442202Z",
     "start_time": "2024-11-13T15:26:38.234978Z"
    }
   },
   "source": [
    "#a)\n",
    "X = baby_df[\"review\"]\n",
    "Y = baby_df[\"rating\"]\n",
    "X_train, X_test, y_train, y_test = train_test_split(X, Y, test_size=0.2, random_state=42)\n",
    "\n",
    "# Use the limited dictionary in CountVectorizer\n",
    "vectorizer = CountVectorizer(vocabulary=significant_words)\n",
    "X_train_vector_lim = vectorizer.fit_transform(X_train)\n",
    "X_test_vector_lim = vectorizer.transform(X_test)\n",
    "\n",
    "# Train Logistic Regression model\n",
    "model = LogisticRegression(solver='sag' ,max_iter=1000)\n",
    "model.fit(X_train_vector_lim, y_train)\n",
    "\n",
    "# Make predictions\n",
    "y_pred = model.predict(X_test_vector_lim)\n",
    "\n",
    "# Evaluate the model\n",
    "accuracy = accuracy_score(y_test, y_pred)\n",
    "\n",
    "print(f\"Model accuracy with limited dictionary: {round(accuracy * 100, 2)}%\")\n"
   ],
   "outputs": [
    {
     "name": "stdout",
     "output_type": "stream",
     "text": [
      "Model accuracy with limited dictionary: 86.9%\n"
     ]
    }
   ],
   "execution_count": 128
  },
  {
   "metadata": {},
   "cell_type": "markdown",
   "source": [
    "## Comment\n",
    "By limiting the dictionary to a set of significant words, we trained the model in the same way as the previous one. The accuracy achieved was 87%, which, while still decent, is notably lower than the previous score. This highlights how reducing the number of words in the dictionary can negatively affect the model's performance. This experiment demonstrates the importance of selecting an appropriate feature set to optimize model behavior and accuracy."
   ]
  },
  {
   "cell_type": "code",
   "metadata": {
    "collapsed": true,
    "ExecuteTime": {
     "end_time": "2024-11-13T15:24:15.799956Z",
     "start_time": "2024-11-13T15:24:15.786151Z"
    }
   },
   "source": [
    "#b)\n",
    "coefficients = model.coef_[0]\n",
    "\n",
    "# Pair each word with its coefficient\n",
    "word_coefficients = list(zip(vectorizer.get_feature_names_out(), coefficients))\n",
    "\n",
    "# Sort words by the magnitude of their coefficients (highest impact first)\n",
    "sorted_words = sorted(word_coefficients, key=lambda x: abs(x[1]), reverse=True)\n",
    "\n",
    "# Print top 10 most important words\n",
    "print(\"Most impactful words and their coefficients:\")\n",
    "for word, coef in sorted_words[:20]:\n",
    "    print(f\"{word}: {coef}\")"
   ],
   "outputs": [
    {
     "name": "stdout",
     "output_type": "stream",
     "text": [
      "Most impactful words and their coefficients:\n",
      "disappointed: -2.388470160730703\n",
      "return: -2.0773260749529494\n",
      "waste: -2.0073706299297496\n",
      "loves: 1.7011900906817243\n",
      "broke: -1.6668354030521377\n",
      "perfect: 1.5219676211936388\n",
      "love: 1.3573491549547172\n",
      "easy: 1.1916609883788067\n",
      "money: -0.9385485609847712\n",
      "great: 0.9311881215715203\n",
      "work: -0.637371809263575\n",
      "little: 0.5021118494947115\n",
      "well: 0.49693814724600927\n",
      "even: -0.4906573369618201\n",
      "would: -0.3394232799118203\n",
      "product: -0.31207322753839395\n",
      "less: -0.20695811745094433\n",
      "able: 0.19444741934563314\n",
      "car: 0.07455446649520711\n",
      "old: 0.07249836605578674\n"
     ]
    }
   ],
   "execution_count": 126
  },
  {
   "metadata": {},
   "cell_type": "markdown",
   "source": [
    "## Comment\n",
    "The most impactful words and their coefficients reveal how certain terms affect sentiment classification. Negative words like \"disappointed\" and \"return\" are linked to negative sentiment, while positive words like \"loves\" and \"perfect\" are associated with positive sentiment. Words with strong positive or negative coefficients indicate their importance in determining the sentiment of the review. This helps us understand which terms the model prioritizes for classification.\n"
   ]
  },
  {
   "cell_type": "code",
   "metadata": {
    "collapsed": true,
    "ExecuteTime": {
     "end_time": "2024-11-13T15:25:51.423919Z",
     "start_time": "2024-11-13T15:24:15.816927Z"
    }
   },
   "source": [
    "#c)\n",
    "import time\n",
    "\n",
    "# Full Dictionary Model (Training and Prediction Time)\n",
    "start_time = time.time()\n",
    "model_full = LogisticRegression(solver='sag',max_iter=1000).fit(X_train_vector, Y_train)  # Training model with full dictionary\n",
    "training_time_full = time.time() - start_time\n",
    "\n",
    "start_time = time.time()\n",
    "model_full.predict(X_test_vector)  # Prediction with full dictionary model\n",
    "prediction_time_full = time.time() - start_time\n",
    "\n",
    "print(f\"Full Dictionary Model Training Time: {training_time_full:.4f} seconds\")\n",
    "print(f\"Full Dictionary Model Prediction Time: {prediction_time_full:.4f} seconds\")\n",
    "accuracy = accuracy_score(Y_test, Y_pred)\n",
    "print(f\"Model accuracy: {round(accuracy * 100, 2)}%\")\n",
    "# ------------------\n",
    "\n",
    "# Limited Dictionary Model (Training and Prediction Time)\n",
    "start_time = time.time()\n",
    "model_limited = LogisticRegression(solver='sag',max_iter=1000).fit(X_train_vector_lim, y_train)  # Training model with limited dictionary\n",
    "training_time_limited = time.time() - start_time\n",
    "\n",
    "start_time = time.time()\n",
    "model_limited.predict(X_test_vector_lim)  # Prediction with limited dictionary model\n",
    "prediction_time_limited = time.time() - start_time\n",
    "\n",
    "print(f\"Limited Dictionary Model Training Time: {training_time_limited:.4f} seconds\")\n",
    "print(f\"Limited Dictionary Model Prediction Time: {prediction_time_limited:.4f} seconds\")\n",
    "accuracy = accuracy_score(y_test, y_pred)\n",
    "print(f\"Model accuracy: {round(accuracy * 100, 2)}%\")"
   ],
   "outputs": [
    {
     "name": "stderr",
     "output_type": "stream",
     "text": [
      "D:\\Anaconda\\anaconda3\\lib\\site-packages\\sklearn\\linear_model\\_sag.py:352: ConvergenceWarning: The max_iter was reached which means the coef_ did not converge\n",
      "  warnings.warn(\n"
     ]
    },
    {
     "name": "stdout",
     "output_type": "stream",
     "text": [
      "Full Dictionary Model Training Time: 95.2294 seconds\n",
      "Full Dictionary Model Prediction Time: 0.0065 seconds\n",
      "Model accuracy: 93.57%\n",
      "Limited Dictionary Model Training Time: 0.3521 seconds\n",
      "Limited Dictionary Model Prediction Time: 0.0000 seconds\n",
      "Model accuracy: 86.9%\n"
     ]
    }
   ],
   "execution_count": 127
  },
  {
   "metadata": {},
   "cell_type": "markdown",
   "source": [
    "## Comment\n",
    "\n",
    "The comparison between the full dictionary and limited dictionary models reveals differences in both performance and accuracy. The full dictionary model takes longer to train and predict due to the larger number of features, which allows it to capture more information from the dataset. This results in higher accuracy, as the model has more words to identify sentiment. In contrast, the limited dictionary model is faster since it works with a smaller set of significant words, but this leads to a decrease in accuracy. The reduced vocabulary does not capture all the nuances of the text, making it less precise in sentiment predictions. While the full dictionary model is slower, it provides better performance in terms of accuracy. Ultimately, the decision between the two models depends on the trade-off between time efficiency and model accuracy for the given application. \n"
   ]
  }
 ],
 "metadata": {
  "anaconda-cloud": {},
  "kernelspec": {
   "display_name": "Python 3 (ipykernel)",
   "language": "python",
   "name": "python3"
  },
  "language_info": {
   "codemirror_mode": {
    "name": "ipython",
    "version": 2
   },
   "file_extension": ".py",
   "mimetype": "text/x-python",
   "name": "python",
   "nbconvert_exporter": "python",
   "pygments_lexer": "ipython2",
   "version": "2.7.12"
  }
 },
 "nbformat": 4,
 "nbformat_minor": 4
}
